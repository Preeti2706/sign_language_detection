{
 "cells": [
  {
   "cell_type": "code",
   "execution_count": 1,
   "id": "9e6c1e9a",
   "metadata": {},
   "outputs": [
    {
     "name": "stdout",
     "output_type": "stream",
     "text": [
      "Collecting roboflow\n",
      "  Downloading roboflow-1.2.6-py3-none-any.whl.metadata (9.7 kB)\n",
      "Requirement already satisfied: certifi in c:\\users\\preet\\anaconda3\\envs\\objdet\\lib\\site-packages (from roboflow) (2025.8.3)\n",
      "Collecting idna==3.7 (from roboflow)\n",
      "  Using cached idna-3.7-py3-none-any.whl.metadata (9.9 kB)\n",
      "Requirement already satisfied: cycler in c:\\users\\preet\\anaconda3\\envs\\objdet\\lib\\site-packages (from roboflow) (0.12.1)\n",
      "Requirement already satisfied: kiwisolver>=1.3.1 in c:\\users\\preet\\anaconda3\\envs\\objdet\\lib\\site-packages (from roboflow) (1.4.9)\n",
      "Requirement already satisfied: matplotlib in c:\\users\\preet\\anaconda3\\envs\\objdet\\lib\\site-packages (from roboflow) (3.10.5)\n",
      "Requirement already satisfied: numpy>=1.18.5 in c:\\users\\preet\\anaconda3\\envs\\objdet\\lib\\site-packages (from roboflow) (2.2.6)\n",
      "Collecting opencv-python-headless==4.10.0.84 (from roboflow)\n",
      "  Using cached opencv_python_headless-4.10.0.84-cp37-abi3-win_amd64.whl.metadata (20 kB)\n",
      "Requirement already satisfied: Pillow>=7.1.2 in c:\\users\\preet\\anaconda3\\envs\\objdet\\lib\\site-packages (from roboflow) (11.3.0)\n",
      "Collecting pi-heif<2 (from roboflow)\n",
      "  Downloading pi_heif-1.1.0-cp310-cp310-win_amd64.whl.metadata (6.7 kB)\n",
      "Collecting pillow-avif-plugin<2 (from roboflow)\n",
      "  Using cached pillow_avif_plugin-1.5.2-cp310-cp310-win_amd64.whl.metadata (2.2 kB)\n",
      "Requirement already satisfied: python-dateutil in c:\\users\\preet\\anaconda3\\envs\\objdet\\lib\\site-packages (from roboflow) (2.9.0.post0)\n",
      "Collecting python-dotenv (from roboflow)\n",
      "  Using cached python_dotenv-1.1.1-py3-none-any.whl.metadata (24 kB)\n",
      "Requirement already satisfied: requests in c:\\users\\preet\\anaconda3\\envs\\objdet\\lib\\site-packages (from roboflow) (2.32.4)\n",
      "Requirement already satisfied: six in c:\\users\\preet\\anaconda3\\envs\\objdet\\lib\\site-packages (from roboflow) (1.17.0)\n",
      "Requirement already satisfied: urllib3>=1.26.6 in c:\\users\\preet\\anaconda3\\envs\\objdet\\lib\\site-packages (from roboflow) (2.5.0)\n",
      "Requirement already satisfied: tqdm>=4.41.0 in c:\\users\\preet\\anaconda3\\envs\\objdet\\lib\\site-packages (from roboflow) (4.67.1)\n",
      "Requirement already satisfied: PyYAML>=5.3.1 in c:\\users\\preet\\anaconda3\\envs\\objdet\\lib\\site-packages (from roboflow) (6.0.2)\n",
      "Collecting requests-toolbelt (from roboflow)\n",
      "  Using cached requests_toolbelt-1.0.0-py2.py3-none-any.whl.metadata (14 kB)\n",
      "Collecting filetype (from roboflow)\n",
      "  Using cached filetype-1.2.0-py2.py3-none-any.whl.metadata (6.5 kB)\n",
      "Requirement already satisfied: colorama in c:\\users\\preet\\anaconda3\\envs\\objdet\\lib\\site-packages (from tqdm>=4.41.0->roboflow) (0.4.6)\n",
      "Requirement already satisfied: contourpy>=1.0.1 in c:\\users\\preet\\anaconda3\\envs\\objdet\\lib\\site-packages (from matplotlib->roboflow) (1.3.2)\n",
      "Requirement already satisfied: fonttools>=4.22.0 in c:\\users\\preet\\anaconda3\\envs\\objdet\\lib\\site-packages (from matplotlib->roboflow) (4.59.1)\n",
      "Requirement already satisfied: packaging>=20.0 in c:\\users\\preet\\anaconda3\\envs\\objdet\\lib\\site-packages (from matplotlib->roboflow) (25.0)\n",
      "Requirement already satisfied: pyparsing>=2.3.1 in c:\\users\\preet\\anaconda3\\envs\\objdet\\lib\\site-packages (from matplotlib->roboflow) (3.2.3)\n",
      "Requirement already satisfied: charset_normalizer<4,>=2 in c:\\users\\preet\\anaconda3\\envs\\objdet\\lib\\site-packages (from requests->roboflow) (3.4.3)\n",
      "Downloading roboflow-1.2.6-py3-none-any.whl (88 kB)\n",
      "Using cached idna-3.7-py3-none-any.whl (66 kB)\n",
      "Using cached opencv_python_headless-4.10.0.84-cp37-abi3-win_amd64.whl (38.8 MB)\n",
      "Downloading pi_heif-1.1.0-cp310-cp310-win_amd64.whl (1.9 MB)\n",
      "   ---------------------------------------- 0.0/1.9 MB ? eta -:--:--\n",
      "   ---------------------------------------- 1.9/1.9 MB 20.8 MB/s eta 0:00:00\n",
      "Using cached pillow_avif_plugin-1.5.2-cp310-cp310-win_amd64.whl (9.9 MB)\n",
      "Using cached filetype-1.2.0-py2.py3-none-any.whl (19 kB)\n",
      "Using cached python_dotenv-1.1.1-py3-none-any.whl (20 kB)\n",
      "Using cached requests_toolbelt-1.0.0-py2.py3-none-any.whl (54 kB)\n",
      "Installing collected packages: pillow-avif-plugin, filetype, python-dotenv, pi-heif, opencv-python-headless, idna, requests-toolbelt, roboflow\n",
      "\n",
      "   ----- ---------------------------------- 1/8 [filetype]\n",
      "   --------------- ------------------------ 3/8 [pi-heif]\n",
      "   -------------------- ------------------- 4/8 [opencv-python-headless]\n",
      "   -------------------- ------------------- 4/8 [opencv-python-headless]\n",
      "   -------------------- ------------------- 4/8 [opencv-python-headless]\n",
      "   -------------------- ------------------- 4/8 [opencv-python-headless]\n",
      "  Attempting uninstall: idna\n",
      "   -------------------- ------------------- 4/8 [opencv-python-headless]\n",
      "    Found existing installation: idna 3.10\n",
      "   -------------------- ------------------- 4/8 [opencv-python-headless]\n",
      "    Uninstalling idna-3.10:\n",
      "   -------------------- ------------------- 4/8 [opencv-python-headless]\n",
      "      Successfully uninstalled idna-3.10\n",
      "   -------------------- ------------------- 4/8 [opencv-python-headless]\n",
      "   ------------------------- -------------- 5/8 [idna]\n",
      "   ------------------------------ --------- 6/8 [requests-toolbelt]\n",
      "   ----------------------------------- ---- 7/8 [roboflow]\n",
      "   ---------------------------------------- 8/8 [roboflow]\n",
      "\n",
      "Successfully installed filetype-1.2.0 idna-3.7 opencv-python-headless-4.10.0.84 pi-heif-1.1.0 pillow-avif-plugin-1.5.2 python-dotenv-1.1.1 requests-toolbelt-1.0.0 roboflow-1.2.6\n"
     ]
    }
   ],
   "source": [
    "!pip install roboflow"
   ]
  },
  {
   "cell_type": "code",
   "execution_count": 2,
   "id": "070b60aa",
   "metadata": {},
   "outputs": [
    {
     "name": "stdout",
     "output_type": "stream",
     "text": [
      "loading Roboflow workspace...\n",
      "loading Roboflow project...\n"
     ]
    },
    {
     "name": "stderr",
     "output_type": "stream",
     "text": [
      "Downloading Dataset Version Zip in sign-language-1 to yolov5pytorch:: 100%|██████████| 102555/102555 [00:10<00:00, 10112.41it/s]"
     ]
    },
    {
     "name": "stdout",
     "output_type": "stream",
     "text": [
      "\n"
     ]
    },
    {
     "name": "stderr",
     "output_type": "stream",
     "text": [
      "\n",
      "Extracting Dataset Version Zip to sign-language-1 in yolov5pytorch:: 100%|██████████| 8994/8994 [00:09<00:00, 928.08it/s] \n"
     ]
    }
   ],
   "source": [
    "from roboflow import Roboflow\n",
    "rf = Roboflow(api_key=\"tfg2V5RKRl5DvKiI6iKa\")\n",
    "project = rf.workspace(\"cv-cxu6g\").project(\"sign-language-2x3bb-6h33n\")\n",
    "version = project.version(1)\n",
    "dataset = version.download(\"yolov5\")"
   ]
  },
  {
   "cell_type": "code",
   "execution_count": null,
   "id": "aa5b38c5",
   "metadata": {},
   "outputs": [],
   "source": []
  }
 ],
 "metadata": {
  "kernelspec": {
   "display_name": "objdet",
   "language": "python",
   "name": "python3"
  },
  "language_info": {
   "codemirror_mode": {
    "name": "ipython",
    "version": 3
   },
   "file_extension": ".py",
   "mimetype": "text/x-python",
   "name": "python",
   "nbconvert_exporter": "python",
   "pygments_lexer": "ipython3",
   "version": "3.10.18"
  }
 },
 "nbformat": 4,
 "nbformat_minor": 5
}
